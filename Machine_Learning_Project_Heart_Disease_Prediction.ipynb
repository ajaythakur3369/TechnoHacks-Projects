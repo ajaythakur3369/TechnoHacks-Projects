{
  "nbformat": 4,
  "nbformat_minor": 0,
  "metadata": {
    "colab": {
      "provenance": [],
      "authorship_tag": "ABX9TyPKLgHZsQNxJGj4Qw2DZlm6",
      "include_colab_link": true
    },
    "kernelspec": {
      "name": "python3",
      "display_name": "Python 3"
    },
    "language_info": {
      "name": "python"
    }
  },
  "cells": [
    {
      "cell_type": "markdown",
      "metadata": {
        "id": "view-in-github",
        "colab_type": "text"
      },
      "source": [
        "<a href=\"https://colab.research.google.com/github/ajaythakur3369/TechnoHacks-Projects/blob/main/Machine_Learning_Project_Heart_Disease_Prediction.ipynb\" target=\"_parent\"><img src=\"https://colab.research.google.com/assets/colab-badge.svg\" alt=\"Open In Colab\"/></a>"
      ]
    },
    {
      "cell_type": "markdown",
      "source": [
        "# **Project Name - Heart Disease Prediction**\n",
        "## **Project Type - Machine Learning Project**\n",
        "## **Developed By - Ajay Thakur (2016kuec2026@iiitkota.ac.in)**\n",
        "## **Branch Name - Electronics and Communication Engineering**\n",
        "## **Institute Name - Indian Institute of Information Technology Kota (An Institute of National Importance under an Act of Parliament)**\n",
        "## **Guided By - Mr. Sandip Gavit (Founder of TechnoHacks EduTech Private Limited)**\n",
        "## **Submitted To - TechnoHacks Edutech Pvt. Ltd.**\n",
        "## **Project Link (GitHub) - [Click here](https://github.com/ajaythakur3369/TechnoHacks-Projects)**\n",
        "## **Project Link (Drive) - [Click here](https://colab.research.google.com/drive/1GrFiJRl61Woq0MXBHlaXTTS6aEQ_bsDw)**\n"
      ],
      "metadata": {
        "id": "jXJouNoGP4dY"
      }
    },
    {
      "cell_type": "markdown",
      "source": [
        "# **Importing Liabraries**"
      ],
      "metadata": {
        "id": "w9mZuzRP6BiM"
      }
    },
    {
      "cell_type": "code",
      "execution_count": null,
      "metadata": {
        "id": "vmdOu97o5SVf"
      },
      "outputs": [],
      "source": [
        "# Import all the required libraries\n",
        "import numpy as np\n",
        "import pandas as pd\n",
        "import seaborn as sns\n",
        "from sklearn.model_selection import train_test_split\n",
        "from sklearn.linear_model import LogisticRegression\n",
        "from sklearn.metrics import accuracy_score\n",
        "import warnings\n",
        "warnings.filterwarnings('ignore')"
      ]
    },
    {
      "cell_type": "markdown",
      "source": [
        "# **Data Importing and Preprocesssing**"
      ],
      "metadata": {
        "id": "XLM168rv6HGQ"
      }
    },
    {
      "cell_type": "code",
      "source": [
        "# Access the Drive from Colab, for accessing required file\n",
        "from google.colab import drive\n",
        "drive.mount('/content/drive/')"
      ],
      "metadata": {
        "id": "YkbNWp_oBZVA",
        "colab": {
          "base_uri": "https://localhost:8080/"
        },
        "outputId": "ad0041c0-9a04-4801-b549-108a3957201e"
      },
      "execution_count": null,
      "outputs": [
        {
          "output_type": "stream",
          "name": "stdout",
          "text": [
            "Drive already mounted at /content/drive/; to attempt to forcibly remount, call drive.mount(\"/content/drive/\", force_remount=True).\n"
          ]
        }
      ]
    },
    {
      "cell_type": "code",
      "source": [
        "# Path, for accessing required file from Drive\n",
        "heart_data = pd.read_csv('/content/drive/MyDrive/folders/heart.csv')"
      ],
      "metadata": {
        "id": "OYWQ8VqOBcZq"
      },
      "execution_count": null,
      "outputs": []
    },
    {
      "cell_type": "code",
      "source": [
        "# Display dataset\n",
        "print(heart_data)"
      ],
      "metadata": {
        "colab": {
          "base_uri": "https://localhost:8080/"
        },
        "id": "-Hl1-dExZLNp",
        "outputId": "15548a87-6850-4094-e87f-d2feb780fa4f"
      },
      "execution_count": null,
      "outputs": [
        {
          "output_type": "stream",
          "name": "stdout",
          "text": [
            "     age  sex  cp  trestbps  chol  fbs  restecg  thalach  exang  oldpeak  \\\n",
            "0     63    1   3       145   233    1        0      150      0      2.3   \n",
            "1     37    1   2       130   250    0        1      187      0      3.5   \n",
            "2     41    0   1       130   204    0        0      172      0      1.4   \n",
            "3     56    1   1       120   236    0        1      178      0      0.8   \n",
            "4     57    0   0       120   354    0        1      163      1      0.6   \n",
            "..   ...  ...  ..       ...   ...  ...      ...      ...    ...      ...   \n",
            "298   57    0   0       140   241    0        1      123      1      0.2   \n",
            "299   45    1   3       110   264    0        1      132      0      1.2   \n",
            "300   68    1   0       144   193    1        1      141      0      3.4   \n",
            "301   57    1   0       130   131    0        1      115      1      1.2   \n",
            "302   57    0   1       130   236    0        0      174      0      0.0   \n",
            "\n",
            "     slope  ca  thal  target  \n",
            "0        0   0     1       1  \n",
            "1        0   0     2       1  \n",
            "2        2   0     2       1  \n",
            "3        2   0     2       1  \n",
            "4        2   0     2       1  \n",
            "..     ...  ..   ...     ...  \n",
            "298      1   0     3       0  \n",
            "299      1   0     3       0  \n",
            "300      1   2     3       0  \n",
            "301      1   1     3       0  \n",
            "302      1   1     2       0  \n",
            "\n",
            "[303 rows x 14 columns]\n"
          ]
        }
      ]
    },
    {
      "cell_type": "markdown",
      "source": [
        "### **Describing The Dataset**"
      ],
      "metadata": {
        "id": "8M-XXo4B8f9O"
      }
    },
    {
      "cell_type": "code",
      "source": [
        "# Display shape of the dataset\n",
        "print(heart_data.shape)"
      ],
      "metadata": {
        "id": "ehScUI_d8iPr",
        "colab": {
          "base_uri": "https://localhost:8080/"
        },
        "outputId": "f3f57a35-e664-49e4-8208-f546a30b7599"
      },
      "execution_count": null,
      "outputs": [
        {
          "output_type": "stream",
          "name": "stdout",
          "text": [
            "(303, 14)\n"
          ]
        }
      ]
    },
    {
      "cell_type": "code",
      "source": [
        "# Display information of the dataset\n",
        "print(heart_data.info())"
      ],
      "metadata": {
        "id": "8ol9JKPz8m4Z",
        "colab": {
          "base_uri": "https://localhost:8080/"
        },
        "outputId": "4c7a7cd9-c61f-44fd-e5f7-a763aafe1120"
      },
      "execution_count": null,
      "outputs": [
        {
          "output_type": "stream",
          "name": "stdout",
          "text": [
            "<class 'pandas.core.frame.DataFrame'>\n",
            "RangeIndex: 303 entries, 0 to 302\n",
            "Data columns (total 14 columns):\n",
            " #   Column    Non-Null Count  Dtype  \n",
            "---  ------    --------------  -----  \n",
            " 0   age       303 non-null    int64  \n",
            " 1   sex       303 non-null    int64  \n",
            " 2   cp        303 non-null    int64  \n",
            " 3   trestbps  303 non-null    int64  \n",
            " 4   chol      303 non-null    int64  \n",
            " 5   fbs       303 non-null    int64  \n",
            " 6   restecg   303 non-null    int64  \n",
            " 7   thalach   303 non-null    int64  \n",
            " 8   exang     303 non-null    int64  \n",
            " 9   oldpeak   303 non-null    float64\n",
            " 10  slope     303 non-null    int64  \n",
            " 11  ca        303 non-null    int64  \n",
            " 12  thal      303 non-null    int64  \n",
            " 13  target    303 non-null    int64  \n",
            "dtypes: float64(1), int64(13)\n",
            "memory usage: 33.3 KB\n",
            "None\n"
          ]
        }
      ]
    },
    {
      "cell_type": "code",
      "source": [
        "# Check the missing values in the dataset\n",
        "heart_data.isnull().sum()"
      ],
      "metadata": {
        "id": "by3LYH9M8pva",
        "colab": {
          "base_uri": "https://localhost:8080/"
        },
        "outputId": "63b4e600-3fbf-4e8a-deee-463981d4e6be"
      },
      "execution_count": null,
      "outputs": [
        {
          "output_type": "execute_result",
          "data": {
            "text/plain": [
              "age         0\n",
              "sex         0\n",
              "cp          0\n",
              "trestbps    0\n",
              "chol        0\n",
              "fbs         0\n",
              "restecg     0\n",
              "thalach     0\n",
              "exang       0\n",
              "oldpeak     0\n",
              "slope       0\n",
              "ca          0\n",
              "thal        0\n",
              "target      0\n",
              "dtype: int64"
            ]
          },
          "metadata": {},
          "execution_count": 34
        }
      ]
    },
    {
      "cell_type": "markdown",
      "source": [
        "There are no null values"
      ],
      "metadata": {
        "id": "a4T-KVAvHkQ-"
      }
    },
    {
      "cell_type": "code",
      "source": [
        "# Display statistical measures about the data\n",
        "print(heart_data.describe())"
      ],
      "metadata": {
        "id": "gJYzu_li8q4q",
        "colab": {
          "base_uri": "https://localhost:8080/"
        },
        "outputId": "16edb336-afa0-4912-fe9d-3bf198f712e9"
      },
      "execution_count": null,
      "outputs": [
        {
          "output_type": "stream",
          "name": "stdout",
          "text": [
            "              age         sex          cp    trestbps        chol         fbs  \\\n",
            "count  303.000000  303.000000  303.000000  303.000000  303.000000  303.000000   \n",
            "mean    54.366337    0.683168    0.966997  131.623762  246.264026    0.148515   \n",
            "std      9.082101    0.466011    1.032052   17.538143   51.830751    0.356198   \n",
            "min     29.000000    0.000000    0.000000   94.000000  126.000000    0.000000   \n",
            "25%     47.500000    0.000000    0.000000  120.000000  211.000000    0.000000   \n",
            "50%     55.000000    1.000000    1.000000  130.000000  240.000000    0.000000   \n",
            "75%     61.000000    1.000000    2.000000  140.000000  274.500000    0.000000   \n",
            "max     77.000000    1.000000    3.000000  200.000000  564.000000    1.000000   \n",
            "\n",
            "          restecg     thalach       exang     oldpeak       slope          ca  \\\n",
            "count  303.000000  303.000000  303.000000  303.000000  303.000000  303.000000   \n",
            "mean     0.528053  149.646865    0.326733    1.039604    1.399340    0.729373   \n",
            "std      0.525860   22.905161    0.469794    1.161075    0.616226    1.022606   \n",
            "min      0.000000   71.000000    0.000000    0.000000    0.000000    0.000000   \n",
            "25%      0.000000  133.500000    0.000000    0.000000    1.000000    0.000000   \n",
            "50%      1.000000  153.000000    0.000000    0.800000    1.000000    0.000000   \n",
            "75%      1.000000  166.000000    1.000000    1.600000    2.000000    1.000000   \n",
            "max      2.000000  202.000000    1.000000    6.200000    2.000000    4.000000   \n",
            "\n",
            "             thal      target  \n",
            "count  303.000000  303.000000  \n",
            "mean     2.313531    0.544554  \n",
            "std      0.612277    0.498835  \n",
            "min      0.000000    0.000000  \n",
            "25%      2.000000    0.000000  \n",
            "50%      2.000000    1.000000  \n",
            "75%      3.000000    1.000000  \n",
            "max      3.000000    1.000000  \n"
          ]
        }
      ]
    },
    {
      "cell_type": "code",
      "source": [
        "# Check the distribution of 'target' column values by using value_counts() function, which returns an object containing counts of unique values\n",
        "heart_data['target'].value_counts()"
      ],
      "metadata": {
        "id": "C3OWqcWP84K_",
        "colab": {
          "base_uri": "https://localhost:8080/"
        },
        "outputId": "01628c61-9f9e-42aa-a113-f5fc1ad44066"
      },
      "execution_count": null,
      "outputs": [
        {
          "output_type": "execute_result",
          "data": {
            "text/plain": [
              "1    165\n",
              "0    138\n",
              "Name: target, dtype: int64"
            ]
          },
          "metadata": {},
          "execution_count": 36
        }
      ]
    },
    {
      "cell_type": "markdown",
      "source": [
        "### **Defining Features and Target**"
      ],
      "metadata": {
        "id": "90_Z_5KG88R_"
      }
    },
    {
      "cell_type": "code",
      "source": [
        "# Display new dataset x, after removing 'target' column with specifying axis 1, by using drop() method\n",
        "x = heart_data.drop(columns = 'target', axis = 1)\n",
        "print(x)"
      ],
      "metadata": {
        "id": "YuHKEntK9BNR",
        "colab": {
          "base_uri": "https://localhost:8080/"
        },
        "outputId": "7c9d8ab0-832f-4c19-f6e3-03eff2b70f8f"
      },
      "execution_count": null,
      "outputs": [
        {
          "output_type": "stream",
          "name": "stdout",
          "text": [
            "     age  sex  cp  trestbps  chol  fbs  restecg  thalach  exang  oldpeak  \\\n",
            "0     63    1   3       145   233    1        0      150      0      2.3   \n",
            "1     37    1   2       130   250    0        1      187      0      3.5   \n",
            "2     41    0   1       130   204    0        0      172      0      1.4   \n",
            "3     56    1   1       120   236    0        1      178      0      0.8   \n",
            "4     57    0   0       120   354    0        1      163      1      0.6   \n",
            "..   ...  ...  ..       ...   ...  ...      ...      ...    ...      ...   \n",
            "298   57    0   0       140   241    0        1      123      1      0.2   \n",
            "299   45    1   3       110   264    0        1      132      0      1.2   \n",
            "300   68    1   0       144   193    1        1      141      0      3.4   \n",
            "301   57    1   0       130   131    0        1      115      1      1.2   \n",
            "302   57    0   1       130   236    0        0      174      0      0.0   \n",
            "\n",
            "     slope  ca  thal  \n",
            "0        0   0     1  \n",
            "1        0   0     2  \n",
            "2        2   0     2  \n",
            "3        2   0     2  \n",
            "4        2   0     2  \n",
            "..     ...  ..   ...  \n",
            "298      1   0     3  \n",
            "299      1   0     3  \n",
            "300      1   2     3  \n",
            "301      1   1     3  \n",
            "302      1   1     2  \n",
            "\n",
            "[303 rows x 13 columns]\n"
          ]
        }
      ]
    },
    {
      "cell_type": "code",
      "source": [
        "# Display another dataset y, with 'target' column\n",
        "y = heart_data['target']\n",
        "print(y)"
      ],
      "metadata": {
        "colab": {
          "base_uri": "https://localhost:8080/"
        },
        "id": "92JEr8ekk-3r",
        "outputId": "3292adc8-9f4c-4877-adeb-5a0701d24dbe"
      },
      "execution_count": null,
      "outputs": [
        {
          "output_type": "stream",
          "name": "stdout",
          "text": [
            "0      1\n",
            "1      1\n",
            "2      1\n",
            "3      1\n",
            "4      1\n",
            "      ..\n",
            "298    0\n",
            "299    0\n",
            "300    0\n",
            "301    0\n",
            "302    0\n",
            "Name: target, Length: 303, dtype: int64\n"
          ]
        }
      ]
    },
    {
      "cell_type": "markdown",
      "source": [
        "### **Split the dataset into Training Set and Test Set**"
      ],
      "metadata": {
        "id": "K1iE2p2e9Jt6"
      }
    },
    {
      "cell_type": "code",
      "source": [
        "# Split the dataset into training set and test set\n",
        "x_train, x_test, y_train, y_test = train_test_split(x, y, train_size = 0.75, stratify = y, random_state = 2)"
      ],
      "metadata": {
        "id": "MWdCnLJ3AZcB"
      },
      "execution_count": null,
      "outputs": []
    },
    {
      "cell_type": "code",
      "source": [
        "# Display x_train dataset of the training set\n",
        "print(x_train)"
      ],
      "metadata": {
        "id": "zHJcWEey9PpK",
        "colab": {
          "base_uri": "https://localhost:8080/"
        },
        "outputId": "77e3d61b-0023-4eb3-8bd1-49999c228d7b"
      },
      "execution_count": null,
      "outputs": [
        {
          "output_type": "stream",
          "name": "stdout",
          "text": [
            "     age  sex  cp  trestbps  chol  fbs  restecg  thalach  exang  oldpeak  \\\n",
            "140   51    0   2       120   295    0        0      157      0      0.6   \n",
            "68    44    1   1       120   220    0        1      170      0      0.0   \n",
            "270   46    1   0       120   249    0        0      144      0      0.8   \n",
            "5     57    1   0       140   192    0        1      148      0      0.4   \n",
            "149   42    1   2       130   180    0        1      150      0      0.0   \n",
            "..   ...  ...  ..       ...   ...  ...      ...      ...    ...      ...   \n",
            "156   47    1   2       130   253    0        1      179      0      0.0   \n",
            "112   64    0   2       140   313    0        1      133      0      0.2   \n",
            "300   68    1   0       144   193    1        1      141      0      3.4   \n",
            "194   60    1   2       140   185    0        0      155      0      3.0   \n",
            "47    47    1   2       138   257    0        0      156      0      0.0   \n",
            "\n",
            "     slope  ca  thal  \n",
            "140      2   0     2  \n",
            "68       2   0     2  \n",
            "270      2   0     3  \n",
            "5        1   0     1  \n",
            "149      2   0     2  \n",
            "..     ...  ..   ...  \n",
            "156      2   0     2  \n",
            "112      2   0     3  \n",
            "300      1   2     3  \n",
            "194      1   0     2  \n",
            "47       2   0     2  \n",
            "\n",
            "[227 rows x 13 columns]\n"
          ]
        }
      ]
    },
    {
      "cell_type": "code",
      "source": [
        "# Display x_test dataset of the test set\n",
        "print(x_test)"
      ],
      "metadata": {
        "id": "eVi_5sb69Sys",
        "colab": {
          "base_uri": "https://localhost:8080/"
        },
        "outputId": "fd9458db-ab48-4aeb-c955-6db6292e8eb0"
      },
      "execution_count": null,
      "outputs": [
        {
          "output_type": "stream",
          "name": "stdout",
          "text": [
            "     age  sex  cp  trestbps  chol  fbs  restecg  thalach  exang  oldpeak  \\\n",
            "48    53    0   2       128   216    0        0      115      0      0.0   \n",
            "9     57    1   2       150   168    0        1      174      0      1.6   \n",
            "172   58    1   1       120   284    0        0      160      0      1.8   \n",
            "59    57    0   0       128   303    0        0      159      0      0.0   \n",
            "169   53    1   0       140   203    1        0      155      1      3.1   \n",
            "..   ...  ...  ..       ...   ...  ...      ...      ...    ...      ...   \n",
            "8     52    1   2       172   199    1        1      162      0      0.5   \n",
            "19    69    0   3       140   239    0        1      151      0      1.8   \n",
            "237   60    1   0       140   293    0        0      170      0      1.2   \n",
            "271   61    1   3       134   234    0        1      145      0      2.6   \n",
            "228   59    1   3       170   288    0        0      159      0      0.2   \n",
            "\n",
            "     slope  ca  thal  \n",
            "48       2   0     0  \n",
            "9        2   0     2  \n",
            "172      1   0     2  \n",
            "59       2   1     2  \n",
            "169      0   0     3  \n",
            "..     ...  ..   ...  \n",
            "8        2   0     3  \n",
            "19       2   2     2  \n",
            "237      1   2     3  \n",
            "271      1   2     2  \n",
            "228      1   0     3  \n",
            "\n",
            "[76 rows x 13 columns]\n"
          ]
        }
      ]
    },
    {
      "cell_type": "code",
      "source": [
        "# Display shape of x_test dataset of the test set\n",
        "print(x_test.shape)"
      ],
      "metadata": {
        "id": "cm8XBTwu9VG9",
        "colab": {
          "base_uri": "https://localhost:8080/"
        },
        "outputId": "1747a814-bd23-4060-9767-545e504ba7a8"
      },
      "execution_count": null,
      "outputs": [
        {
          "output_type": "stream",
          "name": "stdout",
          "text": [
            "(76, 13)\n"
          ]
        }
      ]
    },
    {
      "cell_type": "markdown",
      "source": [
        "# **ML Model Implementation**"
      ],
      "metadata": {
        "id": "un8RM7Z19XOT"
      }
    },
    {
      "cell_type": "markdown",
      "source": [
        "### **Logistic Regression -** Logistic regression is a supervised machine learning algorithm mainly used for classification tasks where the goal is to predict the probability that an instance of belonging to a given class. It is used for classification algorithms its name is logistic regression."
      ],
      "metadata": {
        "id": "jKKKUeb09aMB"
      }
    },
    {
      "cell_type": "code",
      "source": [
        "# Implement logistic regression\n",
        "model = LogisticRegression()"
      ],
      "metadata": {
        "id": "BWD5PgF39d0a"
      },
      "execution_count": null,
      "outputs": []
    },
    {
      "cell_type": "code",
      "source": [
        "# Fit the algorithm for logistic regression, by using fit() function\n",
        "model.fit(x_train, y_train)"
      ],
      "metadata": {
        "id": "3KoBeOl_9fxt",
        "colab": {
          "base_uri": "https://localhost:8080/",
          "height": 74
        },
        "outputId": "fcb38023-d89c-4d02-cbb2-9e30f5f7e957"
      },
      "execution_count": null,
      "outputs": [
        {
          "output_type": "execute_result",
          "data": {
            "text/plain": [
              "LogisticRegression()"
            ],
            "text/html": [
              "<style>#sk-container-id-2 {color: black;background-color: white;}#sk-container-id-2 pre{padding: 0;}#sk-container-id-2 div.sk-toggleable {background-color: white;}#sk-container-id-2 label.sk-toggleable__label {cursor: pointer;display: block;width: 100%;margin-bottom: 0;padding: 0.3em;box-sizing: border-box;text-align: center;}#sk-container-id-2 label.sk-toggleable__label-arrow:before {content: \"▸\";float: left;margin-right: 0.25em;color: #696969;}#sk-container-id-2 label.sk-toggleable__label-arrow:hover:before {color: black;}#sk-container-id-2 div.sk-estimator:hover label.sk-toggleable__label-arrow:before {color: black;}#sk-container-id-2 div.sk-toggleable__content {max-height: 0;max-width: 0;overflow: hidden;text-align: left;background-color: #f0f8ff;}#sk-container-id-2 div.sk-toggleable__content pre {margin: 0.2em;color: black;border-radius: 0.25em;background-color: #f0f8ff;}#sk-container-id-2 input.sk-toggleable__control:checked~div.sk-toggleable__content {max-height: 200px;max-width: 100%;overflow: auto;}#sk-container-id-2 input.sk-toggleable__control:checked~label.sk-toggleable__label-arrow:before {content: \"▾\";}#sk-container-id-2 div.sk-estimator input.sk-toggleable__control:checked~label.sk-toggleable__label {background-color: #d4ebff;}#sk-container-id-2 div.sk-label input.sk-toggleable__control:checked~label.sk-toggleable__label {background-color: #d4ebff;}#sk-container-id-2 input.sk-hidden--visually {border: 0;clip: rect(1px 1px 1px 1px);clip: rect(1px, 1px, 1px, 1px);height: 1px;margin: -1px;overflow: hidden;padding: 0;position: absolute;width: 1px;}#sk-container-id-2 div.sk-estimator {font-family: monospace;background-color: #f0f8ff;border: 1px dotted black;border-radius: 0.25em;box-sizing: border-box;margin-bottom: 0.5em;}#sk-container-id-2 div.sk-estimator:hover {background-color: #d4ebff;}#sk-container-id-2 div.sk-parallel-item::after {content: \"\";width: 100%;border-bottom: 1px solid gray;flex-grow: 1;}#sk-container-id-2 div.sk-label:hover label.sk-toggleable__label {background-color: #d4ebff;}#sk-container-id-2 div.sk-serial::before {content: \"\";position: absolute;border-left: 1px solid gray;box-sizing: border-box;top: 0;bottom: 0;left: 50%;z-index: 0;}#sk-container-id-2 div.sk-serial {display: flex;flex-direction: column;align-items: center;background-color: white;padding-right: 0.2em;padding-left: 0.2em;position: relative;}#sk-container-id-2 div.sk-item {position: relative;z-index: 1;}#sk-container-id-2 div.sk-parallel {display: flex;align-items: stretch;justify-content: center;background-color: white;position: relative;}#sk-container-id-2 div.sk-item::before, #sk-container-id-2 div.sk-parallel-item::before {content: \"\";position: absolute;border-left: 1px solid gray;box-sizing: border-box;top: 0;bottom: 0;left: 50%;z-index: -1;}#sk-container-id-2 div.sk-parallel-item {display: flex;flex-direction: column;z-index: 1;position: relative;background-color: white;}#sk-container-id-2 div.sk-parallel-item:first-child::after {align-self: flex-end;width: 50%;}#sk-container-id-2 div.sk-parallel-item:last-child::after {align-self: flex-start;width: 50%;}#sk-container-id-2 div.sk-parallel-item:only-child::after {width: 0;}#sk-container-id-2 div.sk-dashed-wrapped {border: 1px dashed gray;margin: 0 0.4em 0.5em 0.4em;box-sizing: border-box;padding-bottom: 0.4em;background-color: white;}#sk-container-id-2 div.sk-label label {font-family: monospace;font-weight: bold;display: inline-block;line-height: 1.2em;}#sk-container-id-2 div.sk-label-container {text-align: center;}#sk-container-id-2 div.sk-container {/* jupyter's `normalize.less` sets `[hidden] { display: none; }` but bootstrap.min.css set `[hidden] { display: none !important; }` so we also need the `!important` here to be able to override the default hidden behavior on the sphinx rendered scikit-learn.org. See: https://github.com/scikit-learn/scikit-learn/issues/21755 */display: inline-block !important;position: relative;}#sk-container-id-2 div.sk-text-repr-fallback {display: none;}</style><div id=\"sk-container-id-2\" class=\"sk-top-container\"><div class=\"sk-text-repr-fallback\"><pre>LogisticRegression()</pre><b>In a Jupyter environment, please rerun this cell to show the HTML representation or trust the notebook. <br />On GitHub, the HTML representation is unable to render, please try loading this page with nbviewer.org.</b></div><div class=\"sk-container\" hidden><div class=\"sk-item\"><div class=\"sk-estimator sk-toggleable\"><input class=\"sk-toggleable__control sk-hidden--visually\" id=\"sk-estimator-id-2\" type=\"checkbox\" checked><label for=\"sk-estimator-id-2\" class=\"sk-toggleable__label sk-toggleable__label-arrow\">LogisticRegression</label><div class=\"sk-toggleable__content\"><pre>LogisticRegression()</pre></div></div></div></div></div>"
            ]
          },
          "metadata": {},
          "execution_count": 44
        }
      ]
    },
    {
      "cell_type": "markdown",
      "source": [
        "# **Model Evaluation**"
      ],
      "metadata": {
        "id": "zaLeBwEC9p5H"
      }
    },
    {
      "cell_type": "markdown",
      "source": [
        "### **Accuracy Score**"
      ],
      "metadata": {
        "id": "h5abf-wN9tqT"
      }
    },
    {
      "cell_type": "code",
      "source": [
        "# Predict the logistic regression of x_train dataset of the training set, using predict() function\n",
        "x_train_prediction = model.predict(x_train)"
      ],
      "metadata": {
        "id": "It00CKFP9zOQ"
      },
      "execution_count": null,
      "outputs": []
    },
    {
      "cell_type": "code",
      "source": [
        "# Check the accuracy of training set of the logistic regression, by using accuracy_score() function\n",
        "training_data_accuracy = accuracy_score(x_train_prediction, y_train)*100"
      ],
      "metadata": {
        "id": "wkJzUKj892cU"
      },
      "execution_count": null,
      "outputs": []
    },
    {
      "cell_type": "code",
      "source": [
        "# Display accuracy of the logistic regression on training set\n",
        "print(\"Accuracy of model on training data is: \", training_data_accuracy)"
      ],
      "metadata": {
        "id": "P80laE5E94zd",
        "colab": {
          "base_uri": "https://localhost:8080/"
        },
        "outputId": "fc797dd7-657b-4d29-b2e2-f4429db5dc07"
      },
      "execution_count": null,
      "outputs": [
        {
          "output_type": "stream",
          "name": "stdout",
          "text": [
            "Accuracy of model on training data is:  84.58149779735683\n"
          ]
        }
      ]
    },
    {
      "cell_type": "code",
      "source": [
        "# Predict the logistic regression of x_test dataset of the test set, using predict() function\n",
        "x_test_prediction = model.predict(x_test)"
      ],
      "metadata": {
        "id": "GyOugmH197Ez"
      },
      "execution_count": null,
      "outputs": []
    },
    {
      "cell_type": "code",
      "source": [
        "# Check the accuracy test set of the logistic regression, by using accuracy_score() function\n",
        "testing_data_accuracy = accuracy_score(x_test_prediction, y_test)*100"
      ],
      "metadata": {
        "id": "0JWfojBQzm2T"
      },
      "execution_count": null,
      "outputs": []
    },
    {
      "cell_type": "code",
      "source": [
        "# Display accuracy of the logistic regression on test set\n",
        "print(\"Accuracy of model on testing data is: \", testing_data_accuracy)"
      ],
      "metadata": {
        "id": "54Vqyx4r9_m7",
        "colab": {
          "base_uri": "https://localhost:8080/"
        },
        "outputId": "6d13c00b-92bb-4956-de13-1ee9fa01f00d"
      },
      "execution_count": null,
      "outputs": [
        {
          "output_type": "stream",
          "name": "stdout",
          "text": [
            "Accuracy of model on testing data is:  84.21052631578947\n"
          ]
        }
      ]
    },
    {
      "cell_type": "markdown",
      "source": [
        "# **Build a Predictive System by giving Input**"
      ],
      "metadata": {
        "id": "V61rfwFP-ESD"
      }
    },
    {
      "cell_type": "code",
      "source": [
        "# Provide some inputs for building a predictive system\n",
        "input_data = (41, 0, 1, 130, 204, 0, 0, 172, 0, 1.4, 2, 2, 1)"
      ],
      "metadata": {
        "id": "x3jfHXAj-HYI"
      },
      "execution_count": null,
      "outputs": []
    },
    {
      "cell_type": "code",
      "source": [
        "# Change the input data into numpy array, by using np.asarray() function\n",
        "input_data_as_numpy_array = np.asarray(input_data)"
      ],
      "metadata": {
        "id": "Ar4n7rlilkGs"
      },
      "execution_count": null,
      "outputs": []
    },
    {
      "cell_type": "code",
      "source": [
        "# Reshape the numpy array as we are predicting for only on instance\n",
        "input_data_reshaped = input_data_as_numpy_array.reshape(1, -1)\n",
        "prediction = model.predict(input_data_reshaped)\n",
        "print(prediction)\n",
        "if (prediction[0] == 0):\n",
        "    print(\"The person does not have a heart disease\")\n",
        "else:\n",
        "    print(\"The person has heart Disease\")"
      ],
      "metadata": {
        "id": "OxTxhmjC-KC1",
        "colab": {
          "base_uri": "https://localhost:8080/"
        },
        "outputId": "2ed58598-1a58-4985-ff0d-ea10eea4f161"
      },
      "execution_count": null,
      "outputs": [
        {
          "output_type": "stream",
          "name": "stdout",
          "text": [
            "[1]\n",
            "The person has heart Disease\n"
          ]
        }
      ]
    }
  ]
}